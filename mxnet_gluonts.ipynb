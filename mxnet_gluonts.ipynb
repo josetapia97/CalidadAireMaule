{
 "cells": [
  {
   "cell_type": "code",
   "execution_count": null,
   "metadata": {
    "id": "yOi1TR5CBxA1"
   },
   "outputs": [],
   "source": [
    "import mxnet as mx"
   ]
  },
  {
   "cell_type": "code",
   "execution_count": null,
   "metadata": {
    "colab": {
     "base_uri": "https://localhost:8080/",
     "height": 36
    },
    "id": "8v_QVWT5B_hJ",
    "outputId": "0af98545-09d2-4eb1-f08d-ad14c6588c41"
   },
   "outputs": [
    {
     "data": {
      "text/plain": [
       "'1.9.1'"
      ]
     },
     "execution_count": 55,
     "metadata": {},
     "output_type": "execute_result"
    }
   ],
   "source": [
    "mx.__version__"
   ]
  },
  {
   "cell_type": "code",
   "execution_count": null,
   "metadata": {
    "colab": {
     "base_uri": "https://localhost:8080/"
    },
    "id": "3Ym5BSGpbLq0",
    "outputId": "8755ce64-7500-45b0-8f39-7b8badcd3c9c"
   },
   "outputs": [
    {
     "name": "stdout",
     "output_type": "stream",
     "text": [
      "Fri Aug 12 18:31:58 2022       \n",
      "+-----------------------------------------------------------------------------+\n",
      "| NVIDIA-SMI 515.65.01    Driver Version: 515.65.01    CUDA Version: 11.7     |\n",
      "|-------------------------------+----------------------+----------------------+\n",
      "| GPU  Name        Persistence-M| Bus-Id        Disp.A | Volatile Uncorr. ECC |\n",
      "| Fan  Temp  Perf  Pwr:Usage/Cap|         Memory-Usage | GPU-Util  Compute M. |\n",
      "|                               |                      |               MIG M. |\n",
      "|===============================+======================+======================|\n",
      "|   0  NVIDIA GeForce ...  On   | 00000000:01:00.0  On |                  N/A |\n",
      "|  0%   49C    P0    22W /  75W |    490MiB /  4096MiB |     18%      Default |\n",
      "|                               |                      |                  N/A |\n",
      "+-------------------------------+----------------------+----------------------+\n",
      "                                                                               \n",
      "+-----------------------------------------------------------------------------+\n",
      "| Processes:                                                                  |\n",
      "|  GPU   GI   CI        PID   Type   Process name                  GPU Memory |\n",
      "|        ID   ID                                                   Usage      |\n",
      "|=============================================================================|\n",
      "|    0   N/A  N/A      1201      G   /usr/lib/xorg/Xorg                177MiB |\n",
      "|    0   N/A  N/A      1320      G   /usr/bin/gnome-shell               76MiB |\n",
      "|    0   N/A  N/A      2682      G   ...RendererForSitePerProcess      126MiB |\n",
      "|    0   N/A  N/A      6157      G   ...b/firefox-esr/firefox-esr      105MiB |\n",
      "|    0   N/A  N/A      6671      G   ...b/firefox-esr/firefox-esr        1MiB |\n",
      "+-----------------------------------------------------------------------------+\n"
     ]
    }
   ],
   "source": [
    "!nvidia-smi"
   ]
  },
  {
   "cell_type": "code",
   "execution_count": null,
   "metadata": {
    "colab": {
     "base_uri": "https://localhost:8080/"
    },
    "id": "C-5kspWGc9UD",
    "outputId": "1ec60be4-84f0-4862-c54d-66ed4d658bb0"
   },
   "outputs": [
    {
     "name": "stdout",
     "output_type": "stream",
     "text": [
      "/bin/bash: línea 1: nvcc: orden no encontrada\n"
     ]
    }
   ],
   "source": [
    "!nvcc --version"
   ]
  },
  {
   "cell_type": "code",
   "execution_count": null,
   "metadata": {
    "colab": {
     "base_uri": "https://localhost:8080/"
    },
    "id": "YAqy7GB_AjWm",
    "outputId": "83154c8f-174e-42f3-efee-bc36053e42ab"
   },
   "outputs": [],
   "source": [
    "import pandas as pd\n",
    "from gluonts.dataset import common\n",
    "from gluonts.model import deepar\n",
    "from gluonts.mx.trainer import Trainer\n",
    "from gluonts.dataset.util import to_pandas\n",
    "from gluonts.evaluation import make_evaluation_predictions\n",
    "from gluonts.evaluation import Evaluator\n",
    "from gluonts.model.predictor import Predictor\n",
    "from pathlib import Path\n",
    "import json\n",
    "import matplotlib.pyplot as plt"
   ]
  },
  {
   "cell_type": "code",
   "execution_count": null,
   "metadata": {
    "colab": {
     "base_uri": "https://localhost:8080/"
    },
    "id": "csuBSfaqAx2e",
    "outputId": "0d1124b2-13e8-4a2d-aa21-338d0762f82d"
   },
   "outputs": [],
   "source": [
    "#!pip install 'fsspec>=0.3.3'\n",
    "import dask\n",
    "import dask.bag as db\n",
    "import dask.dataframe as dd"
   ]
  },
  {
   "cell_type": "code",
   "execution_count": null,
   "metadata": {
    "id": "1MPfsMK36EDq"
   },
   "outputs": [],
   "source": [
    "def plot_prob_forecasts(ts_entry, forecast_entry):\n",
    "    plot_length = 150\n",
    "    prediction_intervals = (50.0, 90.0)\n",
    "    legend = [\"observations\", \"median prediction\"] + [f\"{k}% prediction interval\" for k in prediction_intervals][::-1]\n",
    "    fig, ax = plt.subplots(1, 1, figsize=(10, 7))\n",
    "    ts_entry[-plot_length:].plot(ax=ax)  # plot the time series\n",
    "    forecast_entry.plot(prediction_intervals=prediction_intervals, color='g')\n",
    "    plt.grid(which=\"both\")\n",
    "    plt.legend(legend, loc=\"upper left\")\n",
    "    plt.show()"
   ]
  },
  {
   "cell_type": "code",
   "execution_count": null,
   "metadata": {},
   "outputs": [],
   "source": [
    "data=dd.read_json('../data/*.json')  "
   ]
  },
  {
   "cell_type": "code",
   "execution_count": null,
   "metadata": {},
   "outputs": [
    {
     "data": {
      "text/plain": [
       "Index(['o3', 'lat', 'no', 'dt_m', 'so2', 'no2', 'coords', 'nh3', 'lon', 'aqi',\n",
       "       'pm10', 'co', 'dt_u', 'pm2_5'],\n",
       "      dtype='object')"
      ]
     },
     "execution_count": 62,
     "metadata": {},
     "output_type": "execute_result"
    }
   ],
   "source": [
    "data.columns"
   ]
  },
  {
   "cell_type": "code",
   "execution_count": null,
   "metadata": {},
   "outputs": [
    {
     "data": {
      "text/html": [
       "<div>\n",
       "<style scoped>\n",
       "    .dataframe tbody tr th:only-of-type {\n",
       "        vertical-align: middle;\n",
       "    }\n",
       "\n",
       "    .dataframe tbody tr th {\n",
       "        vertical-align: top;\n",
       "    }\n",
       "\n",
       "    .dataframe thead th {\n",
       "        text-align: right;\n",
       "    }\n",
       "</style>\n",
       "<table border=\"1\" class=\"dataframe\">\n",
       "  <thead>\n",
       "    <tr style=\"text-align: right;\">\n",
       "      <th></th>\n",
       "      <th>o3</th>\n",
       "      <th>lat</th>\n",
       "      <th>no</th>\n",
       "      <th>dt_m</th>\n",
       "      <th>so2</th>\n",
       "      <th>no2</th>\n",
       "      <th>coords</th>\n",
       "      <th>nh3</th>\n",
       "      <th>lon</th>\n",
       "      <th>aqi</th>\n",
       "      <th>pm10</th>\n",
       "      <th>co</th>\n",
       "      <th>dt_u</th>\n",
       "      <th>pm2_5</th>\n",
       "    </tr>\n",
       "  </thead>\n",
       "  <tbody>\n",
       "    <tr>\n",
       "      <th>0</th>\n",
       "      <td>38.27</td>\n",
       "      <td>-35.3846</td>\n",
       "      <td>0.16</td>\n",
       "      <td>1656086400</td>\n",
       "      <td>0.06</td>\n",
       "      <td>0.78</td>\n",
       "      <td>-1079921025610592374</td>\n",
       "      <td>3.83</td>\n",
       "      <td>-70.9859</td>\n",
       "      <td>1</td>\n",
       "      <td>8.59</td>\n",
       "      <td>287.06</td>\n",
       "      <td>1656085710</td>\n",
       "      <td>5.04</td>\n",
       "    </tr>\n",
       "    <tr>\n",
       "      <th>0</th>\n",
       "      <td>38.27</td>\n",
       "      <td>-35.3846</td>\n",
       "      <td>0.16</td>\n",
       "      <td>1656086400</td>\n",
       "      <td>0.06</td>\n",
       "      <td>0.78</td>\n",
       "      <td>-1079921025610592374</td>\n",
       "      <td>3.83</td>\n",
       "      <td>-70.9859</td>\n",
       "      <td>1</td>\n",
       "      <td>8.59</td>\n",
       "      <td>287.06</td>\n",
       "      <td>1656086462</td>\n",
       "      <td>5.04</td>\n",
       "    </tr>\n",
       "    <tr>\n",
       "      <th>0</th>\n",
       "      <td>38.27</td>\n",
       "      <td>-35.3846</td>\n",
       "      <td>0.16</td>\n",
       "      <td>1656086400</td>\n",
       "      <td>0.06</td>\n",
       "      <td>0.78</td>\n",
       "      <td>-1079921025610592374</td>\n",
       "      <td>3.83</td>\n",
       "      <td>-70.9859</td>\n",
       "      <td>1</td>\n",
       "      <td>8.59</td>\n",
       "      <td>287.06</td>\n",
       "      <td>1656087218</td>\n",
       "      <td>5.04</td>\n",
       "    </tr>\n",
       "    <tr>\n",
       "      <th>0</th>\n",
       "      <td>38.27</td>\n",
       "      <td>-35.3846</td>\n",
       "      <td>0.16</td>\n",
       "      <td>1656086400</td>\n",
       "      <td>0.06</td>\n",
       "      <td>0.78</td>\n",
       "      <td>-1079921025610592374</td>\n",
       "      <td>3.83</td>\n",
       "      <td>-70.9859</td>\n",
       "      <td>1</td>\n",
       "      <td>8.59</td>\n",
       "      <td>287.06</td>\n",
       "      <td>1656087974</td>\n",
       "      <td>5.04</td>\n",
       "    </tr>\n",
       "    <tr>\n",
       "      <th>0</th>\n",
       "      <td>43.63</td>\n",
       "      <td>-35.3846</td>\n",
       "      <td>0.13</td>\n",
       "      <td>1656090000</td>\n",
       "      <td>0.09</td>\n",
       "      <td>0.84</td>\n",
       "      <td>-1079921025610592374</td>\n",
       "      <td>4.62</td>\n",
       "      <td>-70.9859</td>\n",
       "      <td>1</td>\n",
       "      <td>9.42</td>\n",
       "      <td>293.73</td>\n",
       "      <td>1656088723</td>\n",
       "      <td>5.58</td>\n",
       "    </tr>\n",
       "  </tbody>\n",
       "</table>\n",
       "</div>"
      ],
      "text/plain": [
       "      o3      lat    no        dt_m   so2   no2               coords   nh3  \\\n",
       "0  38.27 -35.3846  0.16  1656086400  0.06  0.78 -1079921025610592374  3.83   \n",
       "0  38.27 -35.3846  0.16  1656086400  0.06  0.78 -1079921025610592374  3.83   \n",
       "0  38.27 -35.3846  0.16  1656086400  0.06  0.78 -1079921025610592374  3.83   \n",
       "0  38.27 -35.3846  0.16  1656086400  0.06  0.78 -1079921025610592374  3.83   \n",
       "0  43.63 -35.3846  0.13  1656090000  0.09  0.84 -1079921025610592374  4.62   \n",
       "\n",
       "       lon  aqi  pm10      co        dt_u  pm2_5  \n",
       "0 -70.9859    1  8.59  287.06  1656085710   5.04  \n",
       "0 -70.9859    1  8.59  287.06  1656086462   5.04  \n",
       "0 -70.9859    1  8.59  287.06  1656087218   5.04  \n",
       "0 -70.9859    1  8.59  287.06  1656087974   5.04  \n",
       "0 -70.9859    1  9.42  293.73  1656088723   5.58  "
      ]
     },
     "execution_count": 63,
     "metadata": {},
     "output_type": "execute_result"
    }
   ],
   "source": [
    "data.head(npartitions=5)"
   ]
  },
  {
   "cell_type": "code",
   "execution_count": null,
   "metadata": {},
   "outputs": [],
   "source": [
    "data['fecha']=dd.to_datetime(data['dt_m'],unit='s')"
   ]
  },
  {
   "cell_type": "code",
   "execution_count": null,
   "metadata": {},
   "outputs": [
    {
     "data": {
      "text/html": [
       "<div>\n",
       "<style scoped>\n",
       "    .dataframe tbody tr th:only-of-type {\n",
       "        vertical-align: middle;\n",
       "    }\n",
       "\n",
       "    .dataframe tbody tr th {\n",
       "        vertical-align: top;\n",
       "    }\n",
       "\n",
       "    .dataframe thead th {\n",
       "        text-align: right;\n",
       "    }\n",
       "</style>\n",
       "<table border=\"1\" class=\"dataframe\">\n",
       "  <thead>\n",
       "    <tr style=\"text-align: right;\">\n",
       "      <th></th>\n",
       "      <th>o3</th>\n",
       "      <th>lat</th>\n",
       "      <th>no</th>\n",
       "      <th>dt_m</th>\n",
       "      <th>so2</th>\n",
       "      <th>no2</th>\n",
       "      <th>coords</th>\n",
       "      <th>nh3</th>\n",
       "      <th>lon</th>\n",
       "      <th>aqi</th>\n",
       "      <th>pm10</th>\n",
       "      <th>co</th>\n",
       "      <th>dt_u</th>\n",
       "      <th>pm2_5</th>\n",
       "      <th>fecha</th>\n",
       "    </tr>\n",
       "  </thead>\n",
       "  <tbody>\n",
       "    <tr>\n",
       "      <th>0</th>\n",
       "      <td>38.27</td>\n",
       "      <td>-35.3846</td>\n",
       "      <td>0.16</td>\n",
       "      <td>1656086400</td>\n",
       "      <td>0.06</td>\n",
       "      <td>0.78</td>\n",
       "      <td>-1079921025610592374</td>\n",
       "      <td>3.83</td>\n",
       "      <td>-70.9859</td>\n",
       "      <td>1</td>\n",
       "      <td>8.59</td>\n",
       "      <td>287.06</td>\n",
       "      <td>1656085710</td>\n",
       "      <td>5.04</td>\n",
       "      <td>2022-06-24 16:00:00</td>\n",
       "    </tr>\n",
       "    <tr>\n",
       "      <th>0</th>\n",
       "      <td>38.27</td>\n",
       "      <td>-35.3846</td>\n",
       "      <td>0.16</td>\n",
       "      <td>1656086400</td>\n",
       "      <td>0.06</td>\n",
       "      <td>0.78</td>\n",
       "      <td>-1079921025610592374</td>\n",
       "      <td>3.83</td>\n",
       "      <td>-70.9859</td>\n",
       "      <td>1</td>\n",
       "      <td>8.59</td>\n",
       "      <td>287.06</td>\n",
       "      <td>1656086462</td>\n",
       "      <td>5.04</td>\n",
       "      <td>2022-06-24 16:00:00</td>\n",
       "    </tr>\n",
       "    <tr>\n",
       "      <th>0</th>\n",
       "      <td>38.27</td>\n",
       "      <td>-35.3846</td>\n",
       "      <td>0.16</td>\n",
       "      <td>1656086400</td>\n",
       "      <td>0.06</td>\n",
       "      <td>0.78</td>\n",
       "      <td>-1079921025610592374</td>\n",
       "      <td>3.83</td>\n",
       "      <td>-70.9859</td>\n",
       "      <td>1</td>\n",
       "      <td>8.59</td>\n",
       "      <td>287.06</td>\n",
       "      <td>1656087218</td>\n",
       "      <td>5.04</td>\n",
       "      <td>2022-06-24 16:00:00</td>\n",
       "    </tr>\n",
       "    <tr>\n",
       "      <th>0</th>\n",
       "      <td>38.27</td>\n",
       "      <td>-35.3846</td>\n",
       "      <td>0.16</td>\n",
       "      <td>1656086400</td>\n",
       "      <td>0.06</td>\n",
       "      <td>0.78</td>\n",
       "      <td>-1079921025610592374</td>\n",
       "      <td>3.83</td>\n",
       "      <td>-70.9859</td>\n",
       "      <td>1</td>\n",
       "      <td>8.59</td>\n",
       "      <td>287.06</td>\n",
       "      <td>1656087974</td>\n",
       "      <td>5.04</td>\n",
       "      <td>2022-06-24 16:00:00</td>\n",
       "    </tr>\n",
       "    <tr>\n",
       "      <th>0</th>\n",
       "      <td>43.63</td>\n",
       "      <td>-35.3846</td>\n",
       "      <td>0.13</td>\n",
       "      <td>1656090000</td>\n",
       "      <td>0.09</td>\n",
       "      <td>0.84</td>\n",
       "      <td>-1079921025610592374</td>\n",
       "      <td>4.62</td>\n",
       "      <td>-70.9859</td>\n",
       "      <td>1</td>\n",
       "      <td>9.42</td>\n",
       "      <td>293.73</td>\n",
       "      <td>1656088723</td>\n",
       "      <td>5.58</td>\n",
       "      <td>2022-06-24 17:00:00</td>\n",
       "    </tr>\n",
       "  </tbody>\n",
       "</table>\n",
       "</div>"
      ],
      "text/plain": [
       "      o3      lat    no        dt_m   so2   no2               coords   nh3  \\\n",
       "0  38.27 -35.3846  0.16  1656086400  0.06  0.78 -1079921025610592374  3.83   \n",
       "0  38.27 -35.3846  0.16  1656086400  0.06  0.78 -1079921025610592374  3.83   \n",
       "0  38.27 -35.3846  0.16  1656086400  0.06  0.78 -1079921025610592374  3.83   \n",
       "0  38.27 -35.3846  0.16  1656086400  0.06  0.78 -1079921025610592374  3.83   \n",
       "0  43.63 -35.3846  0.13  1656090000  0.09  0.84 -1079921025610592374  4.62   \n",
       "\n",
       "       lon  aqi  pm10      co        dt_u  pm2_5               fecha  \n",
       "0 -70.9859    1  8.59  287.06  1656085710   5.04 2022-06-24 16:00:00  \n",
       "0 -70.9859    1  8.59  287.06  1656086462   5.04 2022-06-24 16:00:00  \n",
       "0 -70.9859    1  8.59  287.06  1656087218   5.04 2022-06-24 16:00:00  \n",
       "0 -70.9859    1  8.59  287.06  1656087974   5.04 2022-06-24 16:00:00  \n",
       "0 -70.9859    1  9.42  293.73  1656088723   5.58 2022-06-24 17:00:00  "
      ]
     },
     "execution_count": 65,
     "metadata": {},
     "output_type": "execute_result"
    }
   ],
   "source": [
    "data.head(npartitions=5)"
   ]
  },
  {
   "cell_type": "code",
   "execution_count": 66,
   "metadata": {},
   "outputs": [],
   "source": [
    "grouped_data=data.groupby(['coords','fecha']).mean().compute()"
   ]
  },
  {
   "cell_type": "code",
   "execution_count": 67,
   "metadata": {},
   "outputs": [],
   "source": [
    "df=grouped_data.loc[-1079921025610592374]"
   ]
  },
  {
   "cell_type": "code",
   "execution_count": 72,
   "metadata": {},
   "outputs": [],
   "source": [
    "data_test = common.ListDataset([{'start': df.index[0],'target': df['pm10']}],freq='1H')"
   ]
  },
  {
   "cell_type": "code",
   "execution_count": 69,
   "metadata": {},
   "outputs": [
    {
     "data": {
      "text/plain": [
       "<AxesSubplot:xlabel='fecha'>"
      ]
     },
     "execution_count": 69,
     "metadata": {},
     "output_type": "execute_result"
    },
    {
     "data": {
      "image/png": "[encoded data removed]",
      "text/plain": [
       "<Figure size 432x288 with 1 Axes>"
      ]
     },
     "metadata": {
      "needs_background": "light"
     },
     "output_type": "display_data"
    }
   ],
   "source": [
    "df['pm10'].plot()"
   ]
  },
  {
   "cell_type": "code",
   "execution_count": 73,
   "metadata": {
    "id": "mWq0PmPp6LQJ"
   },
   "outputs": [
    {
     "ename": "TypeError",
     "evalue": "__init__() got an unexpected keyword argument 'freq'",
     "output_type": "error",
     "traceback": [
      "\u001b[0;31m---------------------------------------------------------------------------\u001b[0m",
      "\u001b[0;31mTypeError\u001b[0m                                 Traceback (most recent call last)",
      "\u001b[1;32m/home/jose/Documentos/calidad_aire/mxnet_gluonts.ipynb Celda 17\u001b[0m in \u001b[0;36m<cell line: 3>\u001b[0;34m()\u001b[0m\n\u001b[1;32m      <a href='vscode-notebook-cell:/home/jose/Documentos/calidad_aire/mxnet_gluonts.ipynb#X22sZmlsZQ%3D%3D?line=0'>1</a>\u001b[0m ruta\u001b[39m=\u001b[39mPath(\u001b[39m'\u001b[39m\u001b[39mtrained_model\u001b[39m\u001b[39m'\u001b[39m)\n\u001b[0;32m----> <a href='vscode-notebook-cell:/home/jose/Documentos/calidad_aire/mxnet_gluonts.ipynb#X22sZmlsZQ%3D%3D?line=2'>3</a>\u001b[0m predictor \u001b[39m=\u001b[39m Predictor\u001b[39m.\u001b[39;49mdeserialize(ruta)\n\u001b[1;32m      <a href='vscode-notebook-cell:/home/jose/Documentos/calidad_aire/mxnet_gluonts.ipynb#X22sZmlsZQ%3D%3D?line=4'>5</a>\u001b[0m forecast_it,ts_it\u001b[39m=\u001b[39mmake_evaluation_predictions(dataset\u001b[39m=\u001b[39mdata_test,predictor\u001b[39m=\u001b[39mpredictor,num_samples\u001b[39m=\u001b[39m\u001b[39m100\u001b[39m)\n",
      "File \u001b[0;32m~/.local/lib/python3.9/site-packages/gluonts/model/predictor.py:118\u001b[0m, in \u001b[0;36mPredictor.deserialize\u001b[0;34m(cls, path, **kwargs)\u001b[0m\n\u001b[1;32m    112\u001b[0m     \u001b[39mraise\u001b[39;00m \u001b[39mOSError\u001b[39;00m(\n\u001b[1;32m    113\u001b[0m         \u001b[39mf\u001b[39m\u001b[39m\"\u001b[39m\u001b[39mClass \u001b[39m\u001b[39m{\u001b[39;00mfqname_for(tpe)\u001b[39m}\u001b[39;00m\u001b[39m is not \u001b[39m\u001b[39m\"\u001b[39m\n\u001b[1;32m    114\u001b[0m         \u001b[39mf\u001b[39m\u001b[39m\"\u001b[39m\u001b[39ma subclass of \u001b[39m\u001b[39m{\u001b[39;00mfqname_for(Predictor)\u001b[39m}\u001b[39;00m\u001b[39m\"\u001b[39m\n\u001b[1;32m    115\u001b[0m     )\n\u001b[1;32m    117\u001b[0m \u001b[39m# call deserialize() for the concrete Predictor type\u001b[39;00m\n\u001b[0;32m--> 118\u001b[0m \u001b[39mreturn\u001b[39;00m tpe\u001b[39m.\u001b[39;49mdeserialize(path, \u001b[39m*\u001b[39;49m\u001b[39m*\u001b[39;49mkwargs)\n",
      "File \u001b[0;32m~/.local/lib/python3.9/site-packages/gluonts/mx/model/predictor.py:381\u001b[0m, in \u001b[0;36mRepresentableBlockPredictor.deserialize\u001b[0;34m(cls, path, ctx)\u001b[0m\n\u001b[1;32m    377\u001b[0m     \u001b[39mdel\u001b[39;00m parameters[\u001b[39m\"\u001b[39m\u001b[39minput_names\u001b[39m\u001b[39m\"\u001b[39m]\n\u001b[1;32m    379\u001b[0m parameters[\u001b[39m\"\u001b[39m\u001b[39mctx\u001b[39m\u001b[39m\"\u001b[39m] \u001b[39m=\u001b[39m ctx\n\u001b[0;32m--> 381\u001b[0m \u001b[39mreturn\u001b[39;00m RepresentableBlockPredictor(\n\u001b[1;32m    382\u001b[0m     input_transform\u001b[39m=\u001b[39;49mtransform,\n\u001b[1;32m    383\u001b[0m     prediction_net\u001b[39m=\u001b[39;49mprediction_net,\n\u001b[1;32m    384\u001b[0m     \u001b[39m*\u001b[39;49m\u001b[39m*\u001b[39;49mparameters,\n\u001b[1;32m    385\u001b[0m )\n",
      "\u001b[0;31mTypeError\u001b[0m: __init__() got an unexpected keyword argument 'freq'"
     ]
    }
   ],
   "source": [
    "predictor = Predictor.deserialize(Path('trained_model'))\n",
    "\n",
    "forecast_it,ts_it=make_evaluation_predictions(dataset=data_test,predictor=predictor,num_samples=100)\n"
   ]
  },
  {
   "cell_type": "code",
   "execution_count": 53,
   "metadata": {},
   "outputs": [
    {
     "ename": "NameError",
     "evalue": "name 'predictor' is not defined",
     "output_type": "error",
     "traceback": [
      "\u001b[0;31m---------------------------------------------------------------------------\u001b[0m",
      "\u001b[0;31mNameError\u001b[0m                                 Traceback (most recent call last)",
      "\u001b[1;32m/home/jose/Documentos/calidad_aire/mxnet_gluonts.ipynb Celda 18\u001b[0m in \u001b[0;36m<cell line: 1>\u001b[0;34m()\u001b[0m\n\u001b[0;32m----> <a href='vscode-notebook-cell:/home/jose/Documentos/calidad_aire/mxnet_gluonts.ipynb#X23sZmlsZQ%3D%3D?line=0'>1</a>\u001b[0m forecast_it,ts_it\u001b[39m=\u001b[39mmake_evaluation_predictions(dataset\u001b[39m=\u001b[39mdata_test,predictor\u001b[39m=\u001b[39mpredictor,num_samples\u001b[39m=\u001b[39m\u001b[39m100\u001b[39m)\n\u001b[1;32m      <a href='vscode-notebook-cell:/home/jose/Documentos/calidad_aire/mxnet_gluonts.ipynb#X23sZmlsZQ%3D%3D?line=1'>2</a>\u001b[0m forecasts \u001b[39m=\u001b[39m \u001b[39mlist\u001b[39m(forecast_it)\n\u001b[1;32m      <a href='vscode-notebook-cell:/home/jose/Documentos/calidad_aire/mxnet_gluonts.ipynb#X23sZmlsZQ%3D%3D?line=2'>3</a>\u001b[0m tss \u001b[39m=\u001b[39m \u001b[39mlist\u001b[39m(ts_it)\n",
      "\u001b[0;31mNameError\u001b[0m: name 'predictor' is not defined"
     ]
    }
   ],
   "source": [
    "forecast_it,ts_it=make_evaluation_predictions(dataset=data_test,predictor=predictor,num_samples=100)\n",
    "forecasts = list(forecast_it)\n",
    "tss = list(ts_it)\n",
    "ts_entry = tss[0]\n",
    "forecast_entry = forecasts[0]\n",
    "plot_prob_forecasts(ts_entry, forecast_entry)"
   ]
  },
  {
   "cell_type": "code",
   "execution_count": null,
   "metadata": {},
   "outputs": [],
   "source": []
  }
 ],
 "metadata": {
  "accelerator": "GPU",
  "colab": {
   "name": "mxnet_gluonts.ipynb",
   "provenance": []
  },
  "kernelspec": {
   "display_name": "Python 3.9.2 64-bit",
   "language": "python",
   "name": "python3"
  },
  "language_info": {
   "codemirror_mode": {
    "name": "ipython",
    "version": 3
   },
   "file_extension": ".py",
   "mimetype": "text/x-python",
   "name": "python",
   "nbconvert_exporter": "python",
   "pygments_lexer": "ipython3",
   "version": "3.9.2"
  },
  "vscode": {
   "interpreter": {
    "hash": "916dbcbb3f70747c44a77c7bcd40155683ae19c65e1c03b4aa3499c5328201f1"
   }
  }
 },
 "nbformat": 4,
 "nbformat_minor": 1
}
